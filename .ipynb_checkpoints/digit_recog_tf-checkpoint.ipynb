{
 "cells": [
  {
   "cell_type": "code",
   "execution_count": 22,
   "metadata": {},
   "outputs": [],
   "source": [
    "import numpy as np\n",
    "import math\n",
    "import tensorflow as tf\n",
    "from tensorflow.examples.tutorials.mnist import input_data\n",
    "import matplotlib.pyplot as plt\n",
    "np.random.seed(42)"
   ]
  },
  {
   "cell_type": "code",
   "execution_count": 23,
   "metadata": {},
   "outputs": [
    {
     "name": "stdout",
     "output_type": "stream",
     "text": [
      "Extracting MNIST_data/train-images-idx3-ubyte.gz\n",
      "Extracting MNIST_data/train-labels-idx1-ubyte.gz\n",
      "Extracting MNIST_data/t10k-images-idx3-ubyte.gz\n",
      "Extracting MNIST_data/t10k-labels-idx1-ubyte.gz\n"
     ]
    }
   ],
   "source": [
    "mnist = input_data.read_data_sets(\"MNIST_data/\", one_hot=True)\n",
    "X_train, y_train,X_test, y_test = mnist.train.images, mnist.train.labels,mnist.test.images,mnist.test.labels\n"
   ]
  },
  {
   "cell_type": "code",
   "execution_count": 24,
   "metadata": {},
   "outputs": [],
   "source": [
    "X_train = X_train/255\n",
    "X_test = X_test/255"
   ]
  },
  {
   "cell_type": "code",
   "execution_count": 25,
   "metadata": {},
   "outputs": [],
   "source": [
    "x = tf.placeholder(tf.float32, [None,784])\n",
    "y = tf.placeholder(tf.float32, [None, 10])\n",
    "W1 = tf.Variable(tf.truncated_normal(shape=[784, 100], stddev=0.1))\n",
    "b1 = tf.Variable(tf.constant(0.1, shape=[100]))\n",
    "h1 = tf.nn.relu(tf.matmul(x, W1) + b1)\n",
    "\n",
    "W2 = tf.Variable(tf.truncated_normal(shape=[100, 10], stddev=0.1))\n",
    "b2 = tf.Variable(tf.constant(0.1, shape=[10]))\n",
    "h1 = tf.nn.relu(tf.matmul(x,W1)+b1)\n",
    "y_ = tf.nn.softmax(tf.matmul(h1, W2) + b2)"
   ]
  },
  {
   "cell_type": "code",
   "execution_count": 43,
   "metadata": {},
   "outputs": [],
   "source": [
    "decay_rate = tf.constant(0.001, tf.float32)\n",
    "alpha  = tf.constant(0.2,tf.float32)\n",
    "ep = tf.placeholder(tf.float32)# placeholder for the epoch number\n",
    "alpha0 = alpha/(1+decay_rate*ep)\n",
    "cost = tf.reduce_mean(tf.nn.softmax_cross_entropy_with_logits_v2(logits=y_, labels=y))\n",
    "optimizer = tf.train.AdamOptimizer(learning_rate=alpha0).minimize(cost)"
   ]
  },
  {
   "cell_type": "code",
   "execution_count": 44,
   "metadata": {},
   "outputs": [],
   "source": [
    "def random_mini_batches(X, Y, mini_batch_size = 64, seed = 0):\n",
    "    m = X.shape[0]                  # number of training examples\n",
    "    mini_batches = []\n",
    "    np.random.seed(seed)\n",
    "    \n",
    "    # Step 1: Shuffle (X, Y)\n",
    "    permutation = list(np.random.permutation(m))\n",
    "    shuffled_X = X[permutation, :]\n",
    "    shuffled_Y = Y[permutation, :].reshape((m,Y.shape[1]))\n",
    "\n",
    "    # Step 2: Partition (shuffled_X, shuffled_Y). Minus the end case.\n",
    "    num_complete_minibatches = math.floor(m/mini_batch_size) # number of mini batches of size mini_batch_size in your partitionning\n",
    "    for k in range(0, num_complete_minibatches):\n",
    "        mini_batch_X = shuffled_X[k * mini_batch_size : k * mini_batch_size + mini_batch_size, :]\n",
    "        mini_batch_Y = shuffled_Y[k * mini_batch_size : k * mini_batch_size + mini_batch_size, :]\n",
    "        mini_batch = (mini_batch_X, mini_batch_Y)\n",
    "        mini_batches.append(mini_batch)\n",
    "    \n",
    "    # Handling the end case (last mini-batch < mini_batch_size)\n",
    "    if m % mini_batch_size != 0:\n",
    "        mini_batch_X = shuffled_X[num_complete_minibatches * mini_batch_size : m, :]\n",
    "        mini_batch_Y = shuffled_Y[num_complete_minibatches * mini_batch_size : m, :]\n",
    "        mini_batch = (mini_batch_X, mini_batch_Y)\n",
    "        mini_batches.append(mini_batch)\n",
    "    \n",
    "    return mini_batches"
   ]
  },
  {
   "cell_type": "code",
   "execution_count": 45,
   "metadata": {
    "scrolled": false
   },
   "outputs": [
    {
     "name": "stdout",
     "output_type": "stream",
     "text": [
      "Cost after 1/50: 104.50816082954407\n",
      "Cost after 2/50: 87.95666217803955\n",
      "Cost after 3/50: 87.04646396636963\n",
      "Cost after 4/50: 86.65191090106964\n",
      "Cost after 5/50: 86.41416299343109\n",
      "Cost after 6/50: 86.17150330543518\n",
      "Cost after 7/50: 85.92438745498657\n",
      "Cost after 8/50: 85.94139909744263\n",
      "Cost after 9/50: 85.8227401971817\n",
      "Cost after 10/50: 85.57160007953644\n",
      "Cost after 11/50: 85.54379677772522\n",
      "Cost after 12/50: 85.53970766067505\n",
      "Cost after 13/50: 85.39308774471283\n",
      "Cost after 14/50: 85.31047010421753\n",
      "Cost after 15/50: 85.21961653232574\n",
      "Cost after 16/50: 85.25460660457611\n",
      "Cost after 17/50: 85.294646859169\n",
      "Cost after 18/50: 85.18242013454437\n",
      "Cost after 19/50: 85.10908687114716\n",
      "Cost after 20/50: 85.14970266819\n",
      "Cost after 21/50: 85.18917334079742\n",
      "Cost after 22/50: 82.94170773029327\n",
      "Cost after 23/50: 81.29558157920837\n",
      "Cost after 24/50: 80.93593287467957\n",
      "Cost after 25/50: 80.88064312934875\n",
      "Cost after 26/50: 80.66107749938965\n",
      "Cost after 27/50: 80.58031070232391\n",
      "Cost after 28/50: 80.61478900909424\n",
      "Cost after 29/50: 80.6796932220459\n",
      "Cost after 30/50: 80.53629970550537\n",
      "Cost after 31/50: 80.4676011800766\n",
      "Cost after 32/50: 80.43876004219055\n",
      "Cost after 33/50: 80.35368204116821\n",
      "Cost after 34/50: 80.40153777599335\n",
      "Cost after 35/50: 80.44834852218628\n",
      "Cost after 36/50: 80.32361626625061\n",
      "Cost after 37/50: 80.27029573917389\n",
      "Cost after 38/50: 80.19996666908264\n",
      "Cost after 39/50: 80.13991403579712\n",
      "Cost after 40/50: 80.21499192714691\n",
      "Cost after 41/50: 80.15276074409485\n",
      "Cost after 42/50: 80.20041394233704\n",
      "Cost after 43/50: 80.13939940929413\n",
      "Cost after 44/50: 80.02781593799591\n",
      "Cost after 45/50: 80.16058707237244\n",
      "Cost after 46/50: 80.11775517463684\n",
      "Cost after 47/50: 80.06627583503723\n",
      "Cost after 48/50: 80.12637495994568\n",
      "Cost after 49/50: 80.05649995803833\n",
      "Cost after 50/50: 80.1215695142746\n"
     ]
    }
   ],
   "source": [
    "init = tf.global_variables_initializer()\n",
    "num_epochs = 50\n",
    "mini_batch_size = 1024\n",
    "seed = 0\n",
    "costs = []\n",
    "sess = tf.Session()\n",
    "sess.run(init)\n",
    "for epoch in range(num_epochs):\n",
    "    epoch_cost = 0\n",
    "    seed = seed + 1\n",
    "    minibatches = random_mini_batches(X_train, y_train, mini_batch_size, seed)\n",
    "    for minibatch in minibatches:\n",
    "        (minibatch_X, minibatch_Y) = minibatch\n",
    "        _,minibatch_cost = sess.run([optimizer,cost], feed_dict={x:minibatch_X, y:minibatch_Y, ep:epoch})\n",
    "        epoch_cost+= minibatch_cost\n",
    "    print(\"Cost after \"+str(epoch+1)+\"/\"+str(num_epochs)+\": \"+str(epoch_cost))\n",
    "    costs.append(epoch_cost)"
   ]
  },
  {
   "cell_type": "code",
   "execution_count": 50,
   "metadata": {},
   "outputs": [
    {
     "data": {
      "image/png": "[encoded data removed]",
      "text/plain": [
       "<matplotlib.figure.Figure at 0x13e8c408908>"
      ]
     },
     "metadata": {},
     "output_type": "display_data"
    }
   ],
   "source": [
    "plt.plot(costs)\n",
    "plt.xlabel('Epoch')\n",
    "plt.ylabel('Epoch Cost')\n",
    "plt.title('Learning rate '+str(sess.run(alpha))+\" with decay rate of \"+str(sess.run(decay_rate)))\n",
    "plt.show()"
   ]
  },
  {
   "cell_type": "code",
   "execution_count": 47,
   "metadata": {},
   "outputs": [
    {
     "name": "stdout",
     "output_type": "stream",
     "text": [
      "Train Accuracy: 97.77091145515442\n",
      "Test Accuracy: 96.3100016117096\n"
     ]
    }
   ],
   "source": [
    "correct_prediction = tf.equal(tf.argmax(y,1), tf.argmax(y_,1))\n",
    "accuracy = tf.reduce_mean(tf.cast(correct_prediction, tf.float32))\n",
    "print(\"Train Accuracy: \"+str(sess.run(accuracy, feed_dict={x: X_train, y: y_train})*100))\n",
    "print(\"Test Accuracy: \"+str(sess.run(accuracy, feed_dict={x: X_test, y: y_test})*100))"
   ]
  },
  {
   "cell_type": "code",
   "execution_count": 51,
   "metadata": {},
   "outputs": [],
   "source": [
    "sess.close()"
   ]
  },
  {
   "cell_type": "code",
   "execution_count": null,
   "metadata": {},
   "outputs": [],
   "source": []
  }
 ],
 "metadata": {
  "kernelspec": {
   "display_name": "Python 3",
   "language": "python",
   "name": "python3"
  },
  "language_info": {
   "codemirror_mode": {
    "name": "ipython",
    "version": 3
   },
   "file_extension": ".py",
   "mimetype": "text/x-python",
   "name": "python",
   "nbconvert_exporter": "python",
   "pygments_lexer": "ipython3",
   "version": "3.6.4"
  }
 },
 "nbformat": 4,
 "nbformat_minor": 2
}
