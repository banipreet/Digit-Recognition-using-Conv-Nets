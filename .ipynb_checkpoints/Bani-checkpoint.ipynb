{
 "cells": [
  {
   "cell_type": "code",
   "execution_count": 38,
   "metadata": {},
   "outputs": [],
   "source": [
    "import numpy as np\n",
    "import keras\n",
    "from keras.datasets import mnist\n",
    "from keras.models import Sequential\n",
    "from keras.layers import Dense, Dropout, Activation\n",
    "from keras.preprocessing.text import Tokenizer\n",
    "import matplotlib.pyplot as plt\n",
    "\n",
    "\n",
    "np.random.seed(42)"
   ]
  },
  {
   "cell_type": "code",
   "execution_count": 39,
   "metadata": {},
   "outputs": [],
   "source": [
    "(x_train, y_train), (x_test, y_test) = mnist.load_data()"
   ]
  },
  {
   "cell_type": "code",
   "execution_count": 40,
   "metadata": {},
   "outputs": [
    {
     "name": "stdout",
     "output_type": "stream",
     "text": [
      "(60000, 10)\n"
     ]
    }
   ],
   "source": [
    "X_train = []\n",
    "X_test = []\n",
    "num_classes = 10\n",
    "for vec in x_train:\n",
    "    a = vec.flatten()\n",
    "    X_train.append(a)\n",
    "for vec in x_test:\n",
    "    a = vec.flatten()\n",
    "    X_test.append(a)\n",
    "X_train = np.array(X_train)\n",
    "X_test = np.array(X_test)\n",
    "y_train = keras.utils.to_categorical(y_train, num_classes)\n",
    "y_test = keras.utils.to_categorical(y_test, num_classes)\n",
    "print(y_train.shape)"
   ]
  },
  {
   "cell_type": "code",
   "execution_count": 41,
   "metadata": {},
   "outputs": [
    {
     "name": "stdout",
     "output_type": "stream",
     "text": [
      "_________________________________________________________________\n",
      "Layer (type)                 Output Shape              Param #   \n",
      "=================================================================\n",
      "dense_5 (Dense)              (None, 10)                7850      \n",
      "=================================================================\n",
      "Total params: 7,850\n",
      "Trainable params: 7,850\n",
      "Non-trainable params: 0\n",
      "_________________________________________________________________\n"
     ]
    }
   ],
   "source": [
    "model = Sequential()\n",
    "model.add(Dense(num_classes, activation='softmax', input_dim=784))\n",
    "model.summary()"
   ]
  },
  {
   "cell_type": "code",
   "execution_count": 42,
   "metadata": {},
   "outputs": [],
   "source": [
    " adam = keras.optimizers.Adam(lr = 0.2)\n",
    "model.compile(loss='categorical_crossentropy',\n",
    "              optimizer='adam',\n",
    "              metrics=['accuracy'])"
   ]
  },
  {
   "cell_type": "code",
   "execution_count": 43,
   "metadata": {
    "scrolled": true
   },
   "outputs": [
    {
     "name": "stdout",
     "output_type": "stream",
     "text": [
      "Train on 60000 samples, validate on 10000 samples\n",
      "Epoch 1/100\n",
      "60000/60000 [==============================] - 2s 42us/step - loss: 0.4688 - acc: 0.8774 - val_loss: 0.3097 - val_acc: 0.9155\n",
      "Epoch 2/100\n",
      "60000/60000 [==============================] - 2s 38us/step - loss: 0.3041 - acc: 0.9153 - val_loss: 0.2849 - val_acc: 0.9216\n",
      "Epoch 3/100\n",
      "60000/60000 [==============================] - 2s 39us/step - loss: 0.2830 - acc: 0.9214 - val_loss: 0.2749 - val_acc: 0.9238\n",
      "Epoch 4/100\n",
      "60000/60000 [==============================] - 2s 40us/step - loss: 0.2734 - acc: 0.9229 - val_loss: 0.2683 - val_acc: 0.9248\n",
      "Epoch 5/100\n",
      "60000/60000 [==============================] - 2s 38us/step - loss: 0.2664 - acc: 0.9261 - val_loss: 0.2653 - val_acc: 0.9258\n",
      "Epoch 6/100\n",
      "60000/60000 [==============================] - 2s 37us/step - loss: 0.2614 - acc: 0.9272 - val_loss: 0.2652 - val_acc: 0.9268\n",
      "Epoch 7/100\n",
      "60000/60000 [==============================] - 2s 36us/step - loss: 0.2582 - acc: 0.9285 - val_loss: 0.2622 - val_acc: 0.9273\n",
      "Epoch 8/100\n",
      "60000/60000 [==============================] - 2s 36us/step - loss: 0.2549 - acc: 0.9297 - val_loss: 0.2659 - val_acc: 0.9279\n",
      "Epoch 9/100\n",
      "60000/60000 [==============================] - 2s 36us/step - loss: 0.2525 - acc: 0.9304 - val_loss: 0.2660 - val_acc: 0.9268\n",
      "Epoch 10/100\n",
      "60000/60000 [==============================] - 2s 36us/step - loss: 0.2508 - acc: 0.9306 - val_loss: 0.2690 - val_acc: 0.9260\n",
      "Epoch 11/100\n",
      "60000/60000 [==============================] - 2s 37us/step - loss: 0.2490 - acc: 0.9314 - val_loss: 0.2651 - val_acc: 0.9274\n",
      "Epoch 12/100\n",
      "60000/60000 [==============================] - 2s 39us/step - loss: 0.2473 - acc: 0.9320 - val_loss: 0.2715 - val_acc: 0.9259\n",
      "Epoch 13/100\n",
      "60000/60000 [==============================] - 2s 36us/step - loss: 0.2456 - acc: 0.9320 - val_loss: 0.2699 - val_acc: 0.9248\n",
      "Epoch 14/100\n",
      "60000/60000 [==============================] - 2s 36us/step - loss: 0.2445 - acc: 0.9321 - val_loss: 0.2714 - val_acc: 0.9258\n",
      "Epoch 15/100\n",
      "60000/60000 [==============================] - 2s 36us/step - loss: 0.2435 - acc: 0.9327 - val_loss: 0.2635 - val_acc: 0.9285\n",
      "Epoch 16/100\n",
      "60000/60000 [==============================] - 2s 39us/step - loss: 0.2422 - acc: 0.9329 - val_loss: 0.2692 - val_acc: 0.9267\n",
      "Epoch 17/100\n",
      "60000/60000 [==============================] - 3s 42us/step - loss: 0.2417 - acc: 0.9330 - val_loss: 0.2721 - val_acc: 0.9265\n",
      "Epoch 18/100\n",
      "60000/60000 [==============================] - 2s 38us/step - loss: 0.2408 - acc: 0.9335 - val_loss: 0.2684 - val_acc: 0.9269\n",
      "Epoch 19/100\n",
      "60000/60000 [==============================] - 2s 40us/step - loss: 0.2399 - acc: 0.9340 - val_loss: 0.2678 - val_acc: 0.9287\n",
      "Epoch 20/100\n",
      "60000/60000 [==============================] - 3s 42us/step - loss: 0.2392 - acc: 0.9343 - val_loss: 0.2664 - val_acc: 0.9293\n",
      "Epoch 21/100\n",
      "60000/60000 [==============================] - 2s 41us/step - loss: 0.2383 - acc: 0.9341 - val_loss: 0.2711 - val_acc: 0.9259\n",
      "Epoch 22/100\n",
      "60000/60000 [==============================] - 2s 41us/step - loss: 0.2374 - acc: 0.9348 - val_loss: 0.2684 - val_acc: 0.9281\n",
      "Epoch 23/100\n",
      "60000/60000 [==============================] - 2s 41us/step - loss: 0.2369 - acc: 0.9345 - val_loss: 0.2719 - val_acc: 0.9270\n",
      "Epoch 24/100\n",
      "60000/60000 [==============================] - 3s 46us/step - loss: 0.2366 - acc: 0.9344 - val_loss: 0.2715 - val_acc: 0.9287\n",
      "Epoch 25/100\n",
      "60000/60000 [==============================] - 3s 49us/step - loss: 0.2360 - acc: 0.9347 - val_loss: 0.2704 - val_acc: 0.9271\n",
      "Epoch 26/100\n",
      "60000/60000 [==============================] - 3s 46us/step - loss: 0.2354 - acc: 0.9353 - val_loss: 0.2708 - val_acc: 0.9270\n",
      "Epoch 27/100\n",
      "60000/60000 [==============================] - 2s 41us/step - loss: 0.2348 - acc: 0.9349 - val_loss: 0.2758 - val_acc: 0.9261\n",
      "Epoch 28/100\n",
      "60000/60000 [==============================] - 2s 41us/step - loss: 0.2347 - acc: 0.9351 - val_loss: 0.2716 - val_acc: 0.9284\n",
      "Epoch 29/100\n",
      "60000/60000 [==============================] - 2s 40us/step - loss: 0.2339 - acc: 0.9356 - val_loss: 0.2771 - val_acc: 0.9268\n",
      "Epoch 30/100\n",
      "60000/60000 [==============================] - 2s 41us/step - loss: 0.2337 - acc: 0.9355 - val_loss: 0.2727 - val_acc: 0.9282\n",
      "Epoch 31/100\n",
      "60000/60000 [==============================] - 2s 41us/step - loss: 0.2331 - acc: 0.9354 - val_loss: 0.2707 - val_acc: 0.9281\n",
      "Epoch 32/100\n",
      "60000/60000 [==============================] - 2s 40us/step - loss: 0.2327 - acc: 0.9357 - val_loss: 0.2772 - val_acc: 0.9258\n",
      "Epoch 33/100\n",
      "60000/60000 [==============================] - 2s 40us/step - loss: 0.2325 - acc: 0.9357 - val_loss: 0.2762 - val_acc: 0.9263\n",
      "Epoch 34/100\n",
      "60000/60000 [==============================] - 3s 43us/step - loss: 0.2319 - acc: 0.9363 - val_loss: 0.2740 - val_acc: 0.9288\n",
      "Epoch 35/100\n",
      "60000/60000 [==============================] - 2s 41us/step - loss: 0.2315 - acc: 0.9359 - val_loss: 0.2774 - val_acc: 0.9260\n",
      "Epoch 36/100\n",
      "60000/60000 [==============================] - 2s 40us/step - loss: 0.2311 - acc: 0.9359 - val_loss: 0.2780 - val_acc: 0.9261\n",
      "Epoch 37/100\n",
      "60000/60000 [==============================] - 2s 41us/step - loss: 0.2311 - acc: 0.9358 - val_loss: 0.2742 - val_acc: 0.9283\n",
      "Epoch 38/100\n",
      "60000/60000 [==============================] - 2s 41us/step - loss: 0.2306 - acc: 0.9360 - val_loss: 0.2763 - val_acc: 0.9273\n",
      "Epoch 39/100\n",
      "60000/60000 [==============================] - 2s 41us/step - loss: 0.2302 - acc: 0.9362 - val_loss: 0.2787 - val_acc: 0.9264\n",
      "Epoch 40/100\n",
      "60000/60000 [==============================] - 2s 41us/step - loss: 0.2301 - acc: 0.9363 - val_loss: 0.2789 - val_acc: 0.9269\n",
      "Epoch 41/100\n",
      "60000/60000 [==============================] - 2s 42us/step - loss: 0.2293 - acc: 0.9371 - val_loss: 0.2803 - val_acc: 0.9283\n",
      "Epoch 42/100\n",
      "60000/60000 [==============================] - 2s 41us/step - loss: 0.2292 - acc: 0.9365 - val_loss: 0.2835 - val_acc: 0.9264\n",
      "Epoch 43/100\n",
      "60000/60000 [==============================] - 2s 42us/step - loss: 0.2297 - acc: 0.9367 - val_loss: 0.2787 - val_acc: 0.9273\n",
      "Epoch 44/100\n",
      "60000/60000 [==============================] - 2s 41us/step - loss: 0.2285 - acc: 0.9364 - val_loss: 0.2824 - val_acc: 0.9264\n",
      "Epoch 45/100\n",
      "60000/60000 [==============================] - 2s 41us/step - loss: 0.2283 - acc: 0.9365 - val_loss: 0.2837 - val_acc: 0.9265\n",
      "Epoch 46/100\n",
      "60000/60000 [==============================] - 3s 42us/step - loss: 0.2281 - acc: 0.9373 - val_loss: 0.2836 - val_acc: 0.9251\n",
      "Epoch 47/100\n",
      "60000/60000 [==============================] - 3s 42us/step - loss: 0.2282 - acc: 0.9366 - val_loss: 0.2828 - val_acc: 0.9270\n",
      "Epoch 48/100\n",
      "60000/60000 [==============================] - 3s 42us/step - loss: 0.2277 - acc: 0.9371 - val_loss: 0.2793 - val_acc: 0.9272\n",
      "Epoch 49/100\n",
      "60000/60000 [==============================] - 3s 42us/step - loss: 0.2279 - acc: 0.9371 - val_loss: 0.2847 - val_acc: 0.9259\n",
      "Epoch 50/100\n",
      "60000/60000 [==============================] - 2s 41us/step - loss: 0.2272 - acc: 0.9368 - val_loss: 0.2800 - val_acc: 0.9258\n",
      "Epoch 51/100\n",
      "60000/60000 [==============================] - 3s 43us/step - loss: 0.2270 - acc: 0.9369 - val_loss: 0.2812 - val_acc: 0.9263\n",
      "Epoch 52/100\n",
      "60000/60000 [==============================] - 3s 42us/step - loss: 0.2269 - acc: 0.9370 - val_loss: 0.2854 - val_acc: 0.9262\n",
      "Epoch 53/100\n",
      "60000/60000 [==============================] - 2s 41us/step - loss: 0.2262 - acc: 0.9374 - val_loss: 0.2907 - val_acc: 0.9249\n",
      "Epoch 54/100\n",
      "60000/60000 [==============================] - 2s 41us/step - loss: 0.2266 - acc: 0.9380 - val_loss: 0.2878 - val_acc: 0.9249\n",
      "Epoch 55/100\n",
      "60000/60000 [==============================] - 2s 41us/step - loss: 0.2262 - acc: 0.9380 - val_loss: 0.2852 - val_acc: 0.9272\n",
      "Epoch 56/100\n",
      "60000/60000 [==============================] - 2s 41us/step - loss: 0.2258 - acc: 0.9379 - val_loss: 0.2842 - val_acc: 0.9270\n",
      "Epoch 57/100\n",
      "60000/60000 [==============================] - 2s 40us/step - loss: 0.2264 - acc: 0.9374 - val_loss: 0.2850 - val_acc: 0.9265\n",
      "Epoch 58/100\n",
      "60000/60000 [==============================] - 2s 41us/step - loss: 0.2258 - acc: 0.9371 - val_loss: 0.2912 - val_acc: 0.9262\n",
      "Epoch 59/100\n"
     ]
    },
    {
     "name": "stdout",
     "output_type": "stream",
     "text": [
      "60000/60000 [==============================] - 2s 40us/step - loss: 0.2256 - acc: 0.9376 - val_loss: 0.2868 - val_acc: 0.9275\n",
      "Epoch 60/100\n",
      "60000/60000 [==============================] - 2s 40us/step - loss: 0.2254 - acc: 0.9371 - val_loss: 0.2851 - val_acc: 0.9281\n",
      "Epoch 61/100\n",
      "60000/60000 [==============================] - 3s 42us/step - loss: 0.2250 - acc: 0.9377 - val_loss: 0.2879 - val_acc: 0.9270\n",
      "Epoch 62/100\n",
      "60000/60000 [==============================] - 2s 41us/step - loss: 0.2251 - acc: 0.9378 - val_loss: 0.2866 - val_acc: 0.9273\n",
      "Epoch 63/100\n",
      "60000/60000 [==============================] - 2s 41us/step - loss: 0.2247 - acc: 0.9378 - val_loss: 0.2857 - val_acc: 0.9260\n",
      "Epoch 64/100\n",
      "60000/60000 [==============================] - 2s 42us/step - loss: 0.2247 - acc: 0.9376 - val_loss: 0.2897 - val_acc: 0.9243\n",
      "Epoch 65/100\n",
      "60000/60000 [==============================] - 2s 41us/step - loss: 0.2249 - acc: 0.9375 - val_loss: 0.2877 - val_acc: 0.9274\n",
      "Epoch 66/100\n",
      "60000/60000 [==============================] - 2s 41us/step - loss: 0.2243 - acc: 0.9374 - val_loss: 0.2885 - val_acc: 0.9279\n",
      "Epoch 67/100\n",
      "60000/60000 [==============================] - 2s 41us/step - loss: 0.2239 - acc: 0.9382 - val_loss: 0.2865 - val_acc: 0.9284\n",
      "Epoch 68/100\n",
      "60000/60000 [==============================] - 2s 41us/step - loss: 0.2244 - acc: 0.9375 - val_loss: 0.2878 - val_acc: 0.9278\n",
      "Epoch 69/100\n",
      "60000/60000 [==============================] - 3s 42us/step - loss: 0.2239 - acc: 0.9373 - val_loss: 0.2884 - val_acc: 0.9268\n",
      "Epoch 70/100\n",
      "60000/60000 [==============================] - 3s 42us/step - loss: 0.2240 - acc: 0.9372 - val_loss: 0.2901 - val_acc: 0.9250\n",
      "Epoch 71/100\n",
      "60000/60000 [==============================] - 3s 42us/step - loss: 0.2237 - acc: 0.9375 - val_loss: 0.2885 - val_acc: 0.9265\n",
      "Epoch 72/100\n",
      "60000/60000 [==============================] - 3s 42us/step - loss: 0.2236 - acc: 0.9386 - val_loss: 0.2922 - val_acc: 0.9250\n",
      "Epoch 73/100\n",
      "60000/60000 [==============================] - 3s 42us/step - loss: 0.2231 - acc: 0.9374 - val_loss: 0.2924 - val_acc: 0.9260\n",
      "Epoch 74/100\n",
      "60000/60000 [==============================] - 2s 41us/step - loss: 0.2232 - acc: 0.9376 - val_loss: 0.2928 - val_acc: 0.9273\n",
      "Epoch 75/100\n",
      "60000/60000 [==============================] - 2s 41us/step - loss: 0.2232 - acc: 0.9376 - val_loss: 0.2926 - val_acc: 0.9261\n",
      "Epoch 76/100\n",
      "60000/60000 [==============================] - 2s 41us/step - loss: 0.2226 - acc: 0.9386 - val_loss: 0.2924 - val_acc: 0.9254\n",
      "Epoch 77/100\n",
      "60000/60000 [==============================] - 2s 41us/step - loss: 0.2228 - acc: 0.9377 - val_loss: 0.2917 - val_acc: 0.9252\n",
      "Epoch 78/100\n",
      "60000/60000 [==============================] - 2s 41us/step - loss: 0.2227 - acc: 0.9380 - val_loss: 0.2922 - val_acc: 0.9270\n",
      "Epoch 79/100\n",
      "60000/60000 [==============================] - 2s 41us/step - loss: 0.2223 - acc: 0.9380 - val_loss: 0.2927 - val_acc: 0.9256\n",
      "Epoch 80/100\n",
      "60000/60000 [==============================] - 2s 41us/step - loss: 0.2224 - acc: 0.9385 - val_loss: 0.2924 - val_acc: 0.9255\n",
      "Epoch 81/100\n",
      "60000/60000 [==============================] - 2s 40us/step - loss: 0.2221 - acc: 0.9383 - val_loss: 0.2923 - val_acc: 0.9252\n",
      "Epoch 82/100\n",
      "60000/60000 [==============================] - 2s 40us/step - loss: 0.2221 - acc: 0.9379 - val_loss: 0.2903 - val_acc: 0.9275\n",
      "Epoch 83/100\n",
      "60000/60000 [==============================] - 2s 40us/step - loss: 0.2219 - acc: 0.9383 - val_loss: 0.2927 - val_acc: 0.9270\n",
      "Epoch 84/100\n",
      "60000/60000 [==============================] - 2s 40us/step - loss: 0.2221 - acc: 0.9381 - val_loss: 0.2913 - val_acc: 0.9281\n",
      "Epoch 85/100\n",
      "60000/60000 [==============================] - 2s 40us/step - loss: 0.2216 - acc: 0.9382 - val_loss: 0.2933 - val_acc: 0.9255\n",
      "Epoch 86/100\n",
      "60000/60000 [==============================] - 2s 41us/step - loss: 0.2216 - acc: 0.9381 - val_loss: 0.2912 - val_acc: 0.9271\n",
      "Epoch 87/100\n",
      "60000/60000 [==============================] - 2s 40us/step - loss: 0.2219 - acc: 0.9380 - val_loss: 0.2927 - val_acc: 0.9271\n",
      "Epoch 88/100\n",
      "60000/60000 [==============================] - 2s 40us/step - loss: 0.2215 - acc: 0.9386 - val_loss: 0.2945 - val_acc: 0.9251\n",
      "Epoch 89/100\n",
      "60000/60000 [==============================] - 2s 39us/step - loss: 0.2213 - acc: 0.9385 - val_loss: 0.2941 - val_acc: 0.9256\n",
      "Epoch 90/100\n",
      "60000/60000 [==============================] - 2s 38us/step - loss: 0.2214 - acc: 0.9390 - val_loss: 0.2934 - val_acc: 0.9258\n",
      "Epoch 91/100\n",
      "60000/60000 [==============================] - 2s 39us/step - loss: 0.2211 - acc: 0.9381 - val_loss: 0.2984 - val_acc: 0.9228\n",
      "Epoch 92/100\n",
      "60000/60000 [==============================] - 2s 40us/step - loss: 0.2211 - acc: 0.9380 - val_loss: 0.2914 - val_acc: 0.9271\n",
      "Epoch 93/100\n",
      "60000/60000 [==============================] - 2s 41us/step - loss: 0.2212 - acc: 0.9385 - val_loss: 0.2938 - val_acc: 0.9264\n",
      "Epoch 94/100\n",
      "60000/60000 [==============================] - 2s 39us/step - loss: 0.2209 - acc: 0.9379 - val_loss: 0.2918 - val_acc: 0.9268\n",
      "Epoch 95/100\n",
      "60000/60000 [==============================] - 2s 39us/step - loss: 0.2205 - acc: 0.9385 - val_loss: 0.2981 - val_acc: 0.9241\n",
      "Epoch 96/100\n",
      "60000/60000 [==============================] - 2s 41us/step - loss: 0.2208 - acc: 0.9388 - val_loss: 0.2967 - val_acc: 0.9261\n",
      "Epoch 97/100\n",
      "60000/60000 [==============================] - 2s 40us/step - loss: 0.2207 - acc: 0.9390 - val_loss: 0.2971 - val_acc: 0.9250\n",
      "Epoch 98/100\n",
      "60000/60000 [==============================] - 2s 39us/step - loss: 0.2203 - acc: 0.9381 - val_loss: 0.2989 - val_acc: 0.9255\n",
      "Epoch 99/100\n",
      "60000/60000 [==============================] - 2s 40us/step - loss: 0.2204 - acc: 0.9387 - val_loss: 0.2989 - val_acc: 0.9262\n",
      "Epoch 100/100\n",
      "60000/60000 [==============================] - 2s 40us/step - loss: 0.2201 - acc: 0.9386 - val_loss: 0.2966 - val_acc: 0.9258\n"
     ]
    }
   ],
   "source": [
    "X_train = X_train/255\n",
    "X_test = X_test/255\n",
    "hist = model.fit(X_train, y_train,\n",
    "          batch_size=32,\n",
    "          epochs=100,\n",
    "          validation_data=(X_test, y_test), \n",
    "          )"
   ]
  },
  {
   "cell_type": "code",
   "execution_count": 44,
   "metadata": {
    "scrolled": true
   },
   "outputs": [
    {
     "name": "stdout",
     "output_type": "stream",
     "text": [
      "10000/10000 [==============================] - 0s 23us/step\n",
      "60000/60000 [==============================] - 1s 21us/step\n",
      "Train Accuracy: 94.02833333333334%\n",
      "Test Accuracy: 92.58%\n"
     ]
    }
   ],
   "source": [
    "score = model.evaluate(X_test, y_test)\n",
    "score2 = model.evaluate(X_train, y_train)\n",
    "print(\"Train Accuracy: \"+str(score2[1]*100)+\"%\")\n",
    "print(\"Test Accuracy: \"+str(score[1]*100)+\"%\")"
   ]
  },
  {
   "cell_type": "code",
   "execution_count": 34,
   "metadata": {},
   "outputs": [],
   "source": [
    "from sklearn.datasets import load_files \n",
    "from glob import glob\n",
    "import cv2\n",
    "from keras.preprocessing import image  "
   ]
  },
  {
   "cell_type": "code",
   "execution_count": 35,
   "metadata": {},
   "outputs": [],
   "source": [
    "test = np.array(glob(\"Digits/*\"))"
   ]
  },
  {
   "cell_type": "code",
   "execution_count": 36,
   "metadata": {},
   "outputs": [],
   "source": [
    "b = []\n",
    "for img_path in test:\n",
    "    img = cv2.imread(img_path)\n",
    "    img = cv2.cvtColor(img, cv2.COLOR_RGB2GRAY)\n",
    "    (thresh, im_bw) = cv2.threshold(img, 128, 255, cv2.THRESH_BINARY | cv2.THRESH_OTSU)\n",
    "    b.append(im_bw.flatten())\n",
    "    \n",
    "b = np.array(b)\n",
    "b = model.predict(b)"
   ]
  },
  {
   "cell_type": "code",
   "execution_count": 37,
   "metadata": {},
   "outputs": [
    {
     "name": "stdout",
     "output_type": "stream",
     "text": [
      "1\n",
      "0\n"
     ]
    }
   ],
   "source": [
    "for ans in b:\n",
    "    temp = np.argmax(ans)\n",
    "    print(temp)"
   ]
  },
  {
   "cell_type": "code",
   "execution_count": null,
   "metadata": {},
   "outputs": [],
   "source": []
  },
  {
   "cell_type": "code",
   "execution_count": null,
   "metadata": {},
   "outputs": [],
   "source": []
  }
 ],
 "metadata": {
  "kernelspec": {
   "display_name": "Python 3",
   "language": "python",
   "name": "python3"
  },
  "language_info": {
   "codemirror_mode": {
    "name": "ipython",
    "version": 3
   },
   "file_extension": ".py",
   "mimetype": "text/x-python",
   "name": "python",
   "nbconvert_exporter": "python",
   "pygments_lexer": "ipython3",
   "version": "3.6.4"
  }
 },
 "nbformat": 4,
 "nbformat_minor": 2
}
